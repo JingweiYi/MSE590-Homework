{
  "cells": [
    {
      "cell_type": "markdown",
      "metadata": {
        "id": "Dj0tmk2aeR1V"
      },
      "source": [
        "# Homework 1: Python Fundamentals & Plotting\n"
      ],
      "id": "Dj0tmk2aeR1V"
    },
    {
      "cell_type": "markdown",
      "metadata": {
        "id": "NpBgccMYeR1Z"
      },
      "source": [
        "## Rules and style (required)\n",
        "- Use **double quotes** for strings.\n",
        "- Add **type hints** for variables and functions.\n",
        "- Do **not** import extra packages beyond what is shown.\n",
        "- Write clean code with helpful names and short comments.\n"
      ],
      "id": "NpBgccMYeR1Z"
    },
    {
      "cell_type": "code",
      "execution_count": null,
      "metadata": {
        "id": "3Wcvs00ueR1a",
        "colab": {
          "base_uri": "https://localhost:8080/"
        },
        "outputId": "da8a22ba-4646-4e1f-ce87-6cabca91d997"
      },
      "outputs": [
        {
          "output_type": "stream",
          "name": "stdout",
          "text": [
            "Setup done.\n",
            "workspace: /content/hw_fs_workspace\n",
            "files: ['nested', 'sample_0.txt', 'sample_1.txt', 'sample_2.txt']\n"
          ]
        }
      ],
      "source": [
        "# Setup (run this cell first)\n",
        "from __future__ import annotations\n",
        "\n",
        "from pathlib import Path\n",
        "from typing import Any, Dict, List, Tuple\n",
        "import numpy as np\n",
        "\n",
        "# Example data for tasks\n",
        "ints: List[int] = list(range(1, 21))  # 1..20\n",
        "arr: np.ndarray = np.arange(30).reshape(5, 6)  # 5x6 array: 0..29\n",
        "\n",
        "roster: List[str] = [\"Ada\", \"Grace\", \"Katherine\", \"Edsger\", \"Donald\", \"Barbara\"]\n",
        "scores_quiz1: List[int] = [9, 10, 8, 7, 9, 10]\n",
        "scores_quiz2: List[int] = [10, 9, 9, 8, 9, 10]\n",
        "\n",
        "catalog: Dict[str, Dict[str, Any]] = {\n",
        "    \"sensor_A\": {\"meta\": {\"id\": \"A-001\", \"room\": \"R1\"}, \"readings\": [0.2, 0.3, 0.5]},\n",
        "    \"sensor_B\": {\"meta\": {\"id\": \"B-101\", \"room\": \"R2\"}, \"readings\": [1.1, 1.0, 0.9]},\n",
        "    \"sensor_C\": {\"meta\": {\"id\": \"C-087\", \"room\": \"R1\"}, \"readings\": [5.0, 4.8, 5.1]},\n",
        "}\n",
        "\n",
        "# A small workspace under the Colab working dir\n",
        "workspace: Path = Path.cwd() / \"hw_fs_workspace\"\n",
        "workspace.mkdir(exist_ok=True)\n",
        "# Create some files\n",
        "for i in range(3):\n",
        "    p: Path = workspace / f\"sample_{i}.txt\"\n",
        "    p.write_text(f\"file_index={i}\\n\" + \"\\n\".join(f\"value={j}\" for j in range(3)))\n",
        "# And a subdir\n",
        "sub: Path = workspace / \"nested\"\n",
        "sub.mkdir(exist_ok=True)\n",
        "(sub / \"notes.txt\").write_text(\"nested file\\nline=42\\n\")\n",
        "\n",
        "print(\"Setup done.\")\n",
        "print(\"workspace:\", workspace)\n",
        "print(\"files:\", sorted(x.name for x in workspace.iterdir()))\n"
      ],
      "id": "3Wcvs00ueR1a"
    },
    {
      "cell_type": "markdown",
      "metadata": {
        "id": "9gd9gJexeR1b"
      },
      "source": [
        "## Problem 1 — Slicing lists\n",
        "\n",
        "**1A.** Write a function that returns every third element of a list, starting at index 1.\n",
        "\n",
        "```python\n",
        "def every_third_from_one(xs: List[int]) -> List[int]:\n",
        "    ...\n",
        "```\n",
        "\n",
        "- Use slicing only (no loops).\n",
        "- Test on `ints`.\n",
        "\n",
        "**1B.** Return the last **five** numbers of `ints` in **reverse** order using **one** slice.\n",
        "\n",
        "```python\n",
        "def last_five_reversed(xs: List[int]) -> List[int]:\n",
        "    ...\n",
        "```\n",
        "\n",
        "**1C.** Given `roster`, return a new list with the **middle four** names (indices 1..4). Do not mutate `roster`.\n",
        "\n",
        "```python\n",
        "def middle_four(names: List[str]) -> List[str]:\n",
        "    ...\n",
        "```\n"
      ],
      "id": "9gd9gJexeR1b"
    },
    {
      "cell_type": "code",
      "execution_count": null,
      "metadata": {
        "id": "IQNYqKuIeR1c"
      },
      "outputs": [],
      "source": [
        "def every_third_from_one(xs: List[int]) -> List[int]:\n",
        "    return xs[1::3]\n",
        "\n",
        "def last_five_reversed(xs: List[int]) -> List[int]:\n",
        "    return xs[:-6:-1]\n",
        "\n",
        "def middle_four(names: List[str]) -> List[str]:\n",
        "    return names[1:5]"
      ],
      "id": "IQNYqKuIeR1c"
    },
    {
      "cell_type": "code",
      "execution_count": null,
      "metadata": {
        "id": "smGegMVCeR1d",
        "colab": {
          "base_uri": "https://localhost:8080/"
        },
        "outputId": "e785a01d-7011-4660-9ad5-c94f164e47bb"
      },
      "outputs": [
        {
          "output_type": "stream",
          "name": "stdout",
          "text": [
            "1A: [2, 5, 8, 11, 14, 17, 20]\n",
            "1B: [20, 19, 18, 17, 16]\n",
            "1C: ['Grace', 'Katherine', 'Edsger', 'Donald']\n"
          ]
        }
      ],
      "source": [
        "# Self-checks for Problem 1 (uncomment after implementing)\n",
        "print(\"1A:\", every_third_from_one(ints))      # expect [2, 5, 8, 11, 14, 17, 20]\n",
        "print(\"1B:\", last_five_reversed(ints))        # expect [20, 19, 18, 17, 16]\n",
        "print(\"1C:\", middle_four(roster))             # expect ['Grace', 'Katherine', 'Edsger', 'Donald']\n"
      ],
      "id": "smGegMVCeR1d"
    },
    {
      "cell_type": "markdown",
      "metadata": {
        "id": "WP8rZc86eR1d"
      },
      "source": [
        "## Problem 2 — Slicing NumPy arrays\n",
        "\n",
        "Use slicing only (no loops).\n",
        "\n",
        "**2A.** From `arr` (shape 5×6), select a **2×3** block that starts at row 1, col 2.\n",
        "\n",
        "```python\n",
        "def block_2x3(a: np.ndarray) -> np.ndarray:\n",
        "    ...\n",
        "```\n",
        "\n",
        "**2B.** Return the last column of `arr` as a **1D** array.\n",
        "\n",
        "```python\n",
        "def last_col_flat(a: np.ndarray) -> np.ndarray:\n",
        "    ...\n",
        "```\n",
        "\n",
        "**2C.** Return every other row of `arr`, and within those rows, every other column.\n",
        "\n",
        "```python\n",
        "def stride_rows_cols(a: np.ndarray) -> np.ndarray:\n",
        "    ...\n",
        "```\n"
      ],
      "id": "WP8rZc86eR1d"
    },
    {
      "cell_type": "code",
      "execution_count": null,
      "metadata": {
        "id": "do4PWT99eR1e"
      },
      "outputs": [],
      "source": [
        "def block_2x3(a: np.ndarray) -> np.ndarray:\n",
        "    return a[1:3, 2:5]\n",
        "\n",
        "def last_col_flat(a: np.ndarray) -> np.ndarray:\n",
        "    return a[:, -1]\n",
        "\n",
        "def stride_rows_cols(a: np.ndarray) -> np.ndarray:\n",
        "    return a[::2, ::2]"
      ],
      "id": "do4PWT99eR1e"
    },
    {
      "cell_type": "code",
      "execution_count": null,
      "metadata": {
        "id": "Xc0AMJSzeR1e",
        "colab": {
          "base_uri": "https://localhost:8080/"
        },
        "outputId": "695b9f0d-aa6a-4459-caa2-928c467e2fa9"
      },
      "outputs": [
        {
          "output_type": "stream",
          "name": "stdout",
          "text": [
            "2A:\n",
            " [[ 8  9 10]\n",
            " [14 15 16]]\n",
            "2B: [ 5 11 17 23 29]\n",
            "2C shape: (3, 3)\n"
          ]
        }
      ],
      "source": [
        "# Self-checks for Problem 2\n",
        "print(\"2A:\\n\", block_2x3(arr))       # expect [[8, 9, 10],[14, 15, 16]]\n",
        "print(\"2B:\",   last_col_flat(arr))   # expect [5, 11, 17, 23, 29]\n",
        "print(\"2C shape:\", stride_rows_cols(arr).shape)  # expect (3, 3)\n"
      ],
      "id": "Xc0AMJSzeR1e"
    },
    {
      "cell_type": "markdown",
      "metadata": {
        "id": "to87uyFReR1e"
      },
      "source": [
        "## Problem 3 — Dictionaries and nested dictionaries\n",
        "\n",
        "**3A.** Write a function that returns a list of all sensor IDs from `catalog` (the `\"id\"` under `\"meta\"`), in **sorted** order.\n",
        "\n",
        "```python\n",
        "def all_sensor_ids(db: Dict[str, Dict[str, Any]]) -> List[str]:\n",
        "    ...\n",
        "```\n",
        "\n",
        "**3B.** Return the average reading for a given sensor key (e.g., `\"sensor_B\"`). Raise a `KeyError` with a clear message if the sensor key is missing.\n",
        "\n",
        "```python\n",
        "def avg_reading(db: Dict[str, Dict[str, Any]], key: str) -> float:\n",
        "    ...\n",
        "```\n",
        "\n",
        "**3C.** Return a dictionary that maps **room** (e.g., `\"R1\"`) to the **count** of sensors in that room.\n",
        "\n",
        "```python\n",
        "def room_counts(db: Dict[str, Dict[str, Any]]) -> Dict[str, int]:\n",
        "    ...\n",
        "```\n"
      ],
      "id": "to87uyFReR1e"
    },
    {
      "cell_type": "code",
      "execution_count": null,
      "metadata": {
        "id": "cxKSxhPyeR1e"
      },
      "outputs": [],
      "source": [
        "from typing import Dict\n",
        "\n",
        "def all_sensor_ids(db: Dict[str, Dict[str, Any]]) -> List[str]:\n",
        "    ids = [sensor[\"meta\"][\"id\"] for sensor in db.values()]\n",
        "    return sorted(ids)\n",
        "\n",
        "def avg_reading(db: Dict[str, Dict[str, Any]], key: str) -> float:\n",
        "    if key not in db:\n",
        "        raise KeyError(f\"Sensor '{key}' not found in database\")\n",
        "    readings = db[key][\"readings\"]\n",
        "    return sum(readings) / len(readings)\n",
        "\n",
        "def room_counts(db: Dict[str, Dict[str, Any]]) -> Dict[str, int]:\n",
        "    counts = {}\n",
        "    for sensor in db.values():\n",
        "        room = sensor[\"meta\"][\"room\"]\n",
        "        counts[room] = counts.get(room, 0) + 1\n",
        "    return counts"
      ],
      "id": "cxKSxhPyeR1e"
    },
    {
      "cell_type": "code",
      "execution_count": null,
      "metadata": {
        "id": "p4vmckn6eR1f",
        "colab": {
          "base_uri": "https://localhost:8080/"
        },
        "outputId": "a64522c1-1dfe-4dcd-b0f5-6489daef2cc1"
      },
      "outputs": [
        {
          "output_type": "stream",
          "name": "stdout",
          "text": [
            "3A: ['A-001', 'B-101', 'C-087']\n",
            "3B: 1.00\n",
            "3C: {'R1': 2, 'R2': 1}\n"
          ]
        }
      ],
      "source": [
        "# Self-checks for Problem 3\n",
        "print(\"3A:\", all_sensor_ids(catalog))     # expect ['A-001','B-101','C-087']\n",
        "print(\"3B:\", f\"{avg_reading(catalog, 'sensor_B'):.2f}\")  # expect 1.00\n",
        "print(\"3C:\", room_counts(catalog))        # expect {'R1': 2, 'R2': 1}\n"
      ],
      "id": "p4vmckn6eR1f"
    },
    {
      "cell_type": "markdown",
      "metadata": {
        "id": "Z9trxeTfeR1f"
      },
      "source": [
        "## Problem 4 — `enumerate()` and `zip()`\n",
        "\n",
        "**4A.** Using `enumerate()`, return a list of tuples `(index, name)` for names in `roster` where the index is **odd**.\n",
        "\n",
        "```python\n",
        "def odd_indexed(names: List[str]) -> List[Tuple[int, str]]:\n",
        "    ...\n",
        "```\n",
        "\n",
        "**4B.** Using `zip()`, compute the **per-student average** of `scores_quiz1` and `scores_quiz2` and return a dict mapping `name -> avg`.\n",
        "\n",
        "```python\n",
        "def per_student_average(\n",
        "    names: List[str], q1: List[int], q2: List[int]\n",
        ") -> Dict[str, float]:\n",
        "    ...\n",
        "```\n",
        "\n",
        "**4C.** Using **both** `enumerate()` and `zip()`, produce a list of strings like  \n",
        "`\"2: Katherine -> 8.5\"` where the prefix is the index (0-based), then name, then average to one decimal place.\n",
        "\n",
        "```python\n",
        "def indexed_report(\n",
        "    names: List[str], q1: List[int], q2: List[int]\n",
        ") -> List[str]:\n",
        "    ...\n",
        "```\n"
      ],
      "id": "Z9trxeTfeR1f"
    },
    {
      "cell_type": "code",
      "execution_count": null,
      "metadata": {
        "id": "vYJ0k74feR1f"
      },
      "outputs": [],
      "source": [
        "from typing import Tuple\n",
        "\n",
        "def odd_indexed(names: List[str]) -> List[Tuple[int, str]]:\n",
        "    return [(i, name) for i, name in enumerate(names) if i % 2 == 1]\n",
        "\n",
        "def per_student_average(\n",
        "    names: List[str], q1: List[int], q2: List[int]\n",
        ") -> Dict[str, float]:\n",
        "    return {name: (score1 + score2) / 2 for name, score1, score2 in zip(names, q1, q2)}\n",
        "\n",
        "def indexed_report(\n",
        "    names: List[str], q1: List[int], q2: List[int]\n",
        ") -> List[str]:\n",
        "    result = []\n",
        "    for i, (name, score1, score2) in enumerate(zip(names, q1, q2)):\n",
        "        avg = (score1 + score2) / 2\n",
        "        result.append(f\"{i}: {name} -> {avg:.1f}\")\n",
        "    return result"
      ],
      "id": "vYJ0k74feR1f"
    },
    {
      "cell_type": "code",
      "execution_count": null,
      "metadata": {
        "id": "TNVxrzkWeR1f",
        "colab": {
          "base_uri": "https://localhost:8080/"
        },
        "outputId": "6ca9bebf-9424-4ffc-c849-e77919a7218b"
      },
      "outputs": [
        {
          "output_type": "stream",
          "name": "stdout",
          "text": [
            "4A: [(1, 'Grace'), (3, 'Edsger'), (5, 'Barbara')]\n",
            "4B: {'Ada': 9.5, 'Grace': 9.5, 'Katherine': 8.5, 'Edsger': 7.5, 'Donald': 9.0, 'Barbara': 10.0}\n",
            "4C: ['0: Ada -> 9.5', '1: Grace -> 9.5', '2: Katherine -> 8.5', '3: Edsger -> 7.5', '4: Donald -> 9.0', '5: Barbara -> 10.0']\n"
          ]
        }
      ],
      "source": [
        "# Self-checks for Problem 4\n",
        "print(\"4A:\", odd_indexed(roster))  # expect [(1,'Grace'), (3,'Edsger'), (5,'Barbara')]\n",
        "print(\"4B:\", per_student_average(roster, scores_quiz1, scores_quiz2))\n",
        "print(\"4C:\", indexed_report(roster, scores_quiz1, scores_quiz2))\n"
      ],
      "id": "TNVxrzkWeR1f"
    },
    {
      "cell_type": "markdown",
      "metadata": {
        "id": "KMJc0GvDeR1g"
      },
      "source": [
        "## Problem 5 — `pathlib` directory work\n",
        "\n",
        "Use **only** `pathlib` methods and properties (no `os`).\n",
        "\n",
        "**5A.** Write a function that returns all **`.txt`** files in `workspace` (non-recursive), as a list of `Path` objects sorted by name.\n",
        "\n",
        "```python\n",
        "def list_txt_nonrecursive(root: Path) -> List[Path]:\n",
        "    ...\n",
        "```\n",
        "\n",
        "**5B.** Write a function that returns all `.txt` files **recursively** under `workspace` (including subfolders), sorted by **relative path** to `root`.\n",
        "\n",
        "```python\n",
        "def list_txt_recursive(root: Path) -> List[Path]:\n",
        "    ...\n",
        "```\n",
        "\n",
        "**5C.** Write a function that reads each `.txt` file **in `root` only** and returns a dict mapping `filename -> first_line` (without newline). If a file is empty, map to `\"\"`.\n",
        "\n",
        "```python\n",
        "def filename_to_first_line(root: Path) -> Dict[str, str]:\n",
        "    ...\n",
        "```\n",
        "\n",
        "**5D.** Write a function that creates a new folder `workspace/outputs` and writes a report file `summary.txt` with two lines:\n",
        "1) number of `.txt` files found recursively  \n",
        "2) the name of the lexicographically first `.txt` file (relative to `root`), or `\"NONE\"` if none\n",
        "\n",
        "Return the `Path` to `summary.txt`.\n",
        "\n",
        "```python\n",
        "def write_summary(root: Path) -> Path:\n",
        "    ...\n",
        "```\n"
      ],
      "id": "KMJc0GvDeR1g"
    },
    {
      "cell_type": "code",
      "execution_count": null,
      "metadata": {
        "id": "BVTi4AcMeR1g"
      },
      "outputs": [],
      "source": [
        "from typing import Dict\n",
        "\n",
        "def list_txt_nonrecursive(root: Path) -> List[Path]:\n",
        "    txt_files = [f for f in root.iterdir()\n",
        "    if f.is_file() and f.suffix == \".txt\"]\n",
        "    return sorted(txt_files, key=lambda x: x.name)\n",
        "\n",
        "def list_txt_recursive(root: Path) -> List[Path]:\n",
        "    txt_files = [f for f in root.rglob(\"*.txt\")\n",
        "    if f.is_file()]\n",
        "    return sorted(txt_files, key=lambda x: x.relative_to(root))\n",
        "\n",
        "def filename_to_first_line(root: Path) -> Dict[str, str]:\n",
        "    result = {}\n",
        "    for file_path in root.iterdir():\n",
        "        if file_path.is_file() and file_path.suffix == \".txt\":\n",
        "            try:\n",
        "                first_line = file_path.read_text().splitlines()[0]\n",
        "            except (IndexError, IOError):\n",
        "                first_line = \"\"\n",
        "            result[file_path.name] = first_line\n",
        "    return result\n",
        "\n",
        "def write_summary(root: Path) -> Path:\n",
        "    output_dir = root / \"outputs\"\n",
        "    output_dir.mkdir(exist_ok=True)\n",
        "    txt_files = list_txt_recursive(root)\n",
        "    count = len(txt_files)\n",
        "    first_file = txt_files[0].relative_to(root) if txt_files else \"NONE\"\n",
        "    summary_path = output_dir / \"summary.txt\"\n",
        "    summary_path.write_text(f\"{count}\\n{first_file}\")\n",
        "\n",
        "    return summary_path"
      ],
      "id": "BVTi4AcMeR1g"
    },
    {
      "cell_type": "code",
      "execution_count": null,
      "metadata": {
        "id": "2cJlD1yceR1g",
        "colab": {
          "base_uri": "https://localhost:8080/"
        },
        "outputId": "d073c238-d6d9-4095-dca3-dfc61ebce9d2"
      },
      "outputs": [
        {
          "output_type": "stream",
          "name": "stdout",
          "text": [
            "5A: ['sample_0.txt', 'sample_1.txt', 'sample_2.txt']\n",
            "5B: ['nested/notes.txt', 'outputs/summary.txt', 'sample_0.txt', 'sample_1.txt', 'sample_2.txt']\n",
            "5C: {'sample_0.txt': 'file_index=0', 'sample_1.txt': 'file_index=1', 'sample_2.txt': 'file_index=2'}\n",
            "5D: /content/hw_fs_workspace/outputs/summary.txt\n"
          ]
        }
      ],
      "source": [
        "# Self-checks for Problem 5\n",
        "print(\"5A:\", [p.name for p in list_txt_nonrecursive(workspace)])\n",
        "print(\"5B:\", [str(p.relative_to(workspace)) for p in list_txt_recursive(workspace)])\n",
        "print(\"5C:\", filename_to_first_line(workspace))\n",
        "print(\"5D:\", write_summary(workspace))\n"
      ],
      "id": "2cJlD1yceR1g"
    },
    {
      "cell_type": "markdown",
      "source": [
        "# Problem 6 – Visualizing data\n",
        "\n",
        "For this problem, we'll be working with the dataset from [Data-Driven Review of Thermoelectric Materials: Performance and Resource Considerations](https://doi.org/10.1021/cm400893e). This dataset can be accessed through `matminer`s `load_dataset()` function with the argument `\"ucsb_thermoelectrics\"`. A description of the dataset's features can be found at the docs page: [https://hackingmaterials.lbl.gov/matminer/dataset_summary.html#ucsb-thermoelectrics](https://hackingmaterials.lbl.gov/matminer/dataset_summary.html#ucsb-thermoelectrics)\n",
        "\n",
        "1. Install `matminer` from `pip`, and perform the necessary imports.\n",
        "2. Plot the following 4 features in one plot in the way that you deem to be most appropriate: crystallinity, electrical resistivity, thermoelectric figure of merit, Seebeck coefficient. Show your initial dataset exploration as well.\n",
        "3. Make a plot to show the relationship between sample crystallinity and the range of associated thermoelectric power factors."
      ],
      "metadata": {
        "id": "6Jz15cQzfFaU"
      },
      "id": "6Jz15cQzfFaU"
    },
    {
      "cell_type": "code",
      "source": [
        "#Got help from ChatGPT\n",
        "\n",
        "# First install matminer if not already installed\n",
        "!pip install matminer\n",
        "import pandas as pd\n",
        "import numpy as np\n",
        "import matplotlib.pyplot as plt\n",
        "import seaborn as sns\n",
        "from matminer.datasets import load_dataset\n",
        "\n",
        "# Set plotting style\n",
        "plt.style.use('default')\n",
        "sns.set_palette(\"husl\")\n",
        "\n",
        "# Load the dataset\n",
        "print(\"Loading UCSB thermoelectrics dataset...\")\n",
        "df = load_dataset(\"ucsb_thermoelectrics\")\n",
        "\n",
        "# First, let's examine the actual column names\n",
        "print(f\"Dataset shape: {df.shape}\")\n",
        "print(f\"\\nAll columns: {df.columns.tolist()}\")\n",
        "print(f\"\\nFirst few rows:\")\n",
        "print(df.head())\n",
        "\n",
        "# Let's find the correct column names by searching for relevant terms\n",
        "print(\"\\nSearching for relevant columns...\")\n",
        "all_columns = df.columns.tolist()\n",
        "\n",
        "# Find columns related to our features\n",
        "crystallinity_cols = [col for col in all_columns if 'crystal' in col.lower()]\n",
        "resistivity_cols = [col for col in all_columns if 'resist' in col.lower() or 'rho' in col.lower()]\n",
        "zt_cols = [col for col in all_columns if 'zt' in col.lower() or 'figure of merit' in col.lower()]\n",
        "seebeck_cols = [col for col in all_columns if 'seebeck' in col.lower()]\n",
        "power_factor_cols = [col for col in all_columns if 'power' in col.lower() and 'factor' in col.lower()]\n",
        "\n",
        "print(f\"Crystallinity columns: {crystallinity_cols}\")\n",
        "print(f\"Resistivity columns: {resistivity_cols}\")\n",
        "print(f\"ZT columns: {zt_cols}\")\n",
        "print(f\"Seebeck columns: {seebeck_cols}\")\n",
        "print(f\"Power factor columns: {power_factor_cols}\")\n",
        "\n",
        "# Based on the actual column names, let's map them\n",
        "# (These might need adjustment based on what we find)\n",
        "crystallinity_col = crystallinity_cols[0] if crystallinity_cols else None\n",
        "resistivity_col = resistivity_cols[0] if resistivity_cols else None\n",
        "zt_col = zt_cols[0] if zt_cols else None\n",
        "seebeck_col = seebeck_cols[0] if seebeck_cols else None\n",
        "power_factor_col = power_factor_cols[0] if power_factor_cols else None\n",
        "\n",
        "print(f\"\\nUsing columns:\")\n",
        "print(f\"Crystallinity: {crystallinity_col}\")\n",
        "print(f\"Resistivity: {resistivity_col}\")\n",
        "print(f\"ZT: {zt_col}\")\n",
        "print(f\"Seebeck: {seebeck_col}\")\n",
        "print(f\"Power factor: {power_factor_col}\")\n",
        "\n",
        "# Initial dataset exploration\n",
        "print(f\"\\nData types:\\n{df.dtypes}\")\n",
        "print(f\"\\nMissing values:\\n{df.isnull().sum()}\")\n",
        "\n",
        "# Display basic statistics for the features of interest\n",
        "features_of_interest = [crystallinity_col, resistivity_col, zt_col, seebeck_col, power_factor_col]\n",
        "features_of_interest = [f for f in features_of_interest if f is not None]\n",
        "\n",
        "print(f\"\\nBasic statistics for features of interest:\")\n",
        "print(df[features_of_interest].describe())\n",
        "\n",
        "# Check unique values for crystallinity\n",
        "if crystallinity_col:\n",
        "    print(f\"\\nUnique crystallinity values: {df[crystallinity_col].unique()}\")\n",
        "\n",
        "# Create a 2x2 grid of subplots for the four features\n",
        "fig, axes = plt.subplots(2, 2, figsize=(15, 12))\n",
        "fig.suptitle('Distribution of Key Thermoelectric Properties', fontsize=16, fontweight='bold')\n",
        "\n",
        "# Plot 1: Crystallinity (categorical data)\n",
        "if crystallinity_col:\n",
        "    crystallinity_counts = df[crystallinity_col].value_counts()\n",
        "    axes[0, 0].bar(range(len(crystallinity_counts)), crystallinity_counts.values)\n",
        "    axes[0, 0].set_title('Crystallinity Distribution')\n",
        "    axes[0, 0].set_xlabel('Crystallinity Type')\n",
        "    axes[0, 0].set_ylabel('Count')\n",
        "    axes[0, 0].set_xticks(range(len(crystallinity_counts)))\n",
        "    axes[0, 0].set_xticklabels(crystallinity_counts.index, rotation=45)\n",
        "else:\n",
        "    axes[0, 0].text(0.5, 0.5, 'Crystallinity data not available',\n",
        "                   ha='center', va='center', transform=axes[0, 0].transAxes)\n",
        "    axes[0, 0].set_title('Crystallinity Distribution')\n",
        "\n",
        "# Plot 2: Electrical Resistivity (log scale due to wide range)\n",
        "if resistivity_col:\n",
        "    resistivity_data = df[resistivity_col].dropna()\n",
        "    if len(resistivity_data) > 0:\n",
        "        axes[0, 1].hist(resistivity_data, bins=50, alpha=0.7, edgecolor='black')\n",
        "        axes[0, 1].set_title('Electrical Resistivity Distribution')\n",
        "        axes[0, 1].set_xlabel('Electrical Resistivity (Ω·m)')\n",
        "        axes[0, 1].set_ylabel('Frequency')\n",
        "        axes[0, 1].set_yscale('log')\n",
        "    else:\n",
        "        axes[0, 1].text(0.5, 0.5, 'No resistivity data',\n",
        "                       ha='center', va='center', transform=axes[0, 1].transAxes)\n",
        "else:\n",
        "    axes[0, 1].text(0.5, 0.5, 'Electrical resistivity data not available',\n",
        "                   ha='center', va='center', transform=axes[0, 1].transAxes)\n",
        "axes[0, 1].set_title('Electrical Resistivity Distribution')\n",
        "\n",
        "# Plot 3: Thermoelectric Figure of Merit (ZT)\n",
        "if zt_col:\n",
        "    zt_data = df[zt_col].dropna()\n",
        "    if len(zt_data) > 0:\n",
        "        axes[1, 0].hist(zt_data, bins=50, alpha=0.7, edgecolor='black')\n",
        "        axes[1, 0].set_title('Thermoelectric Figure of Merit (ZT)')\n",
        "        axes[1, 0].set_xlabel('ZT')\n",
        "        axes[1, 0].set_ylabel('Frequency')\n",
        "    else:\n",
        "        axes[1, 0].text(0.5, 0.5, 'No ZT data',\n",
        "                       ha='center', va='center', transform=axes[1, 0].transAxes)\n",
        "else:\n",
        "    axes[1, 0].text(0.5, 0.5, 'ZT data not available',\n",
        "                   ha='center', va='center', transform=axes[1, 0].transAxes)\n",
        "axes[1, 0].set_title('Thermoelectric Figure of Merit (ZT)')\n",
        "\n",
        "# Plot 4: Seebeck Coefficient\n",
        "if seebeck_col:\n",
        "    seebeck_data = df[seebeck_col].dropna()\n",
        "    if len(seebeck_data) > 0:\n",
        "        axes[1, 1].hist(seebeck_data, bins=50, alpha=0.7, edgecolor='black')\n",
        "        axes[1, 1].set_title('Seebeck Coefficient Distribution')\n",
        "        axes[1, 1].set_xlabel('Seebeck Coefficient (μV/K)')\n",
        "        axes[1, 1].set_ylabel('Frequency')\n",
        "    else:\n",
        "        axes[1, 1].text(0.5, 0.5, 'No Seebeck data',\n",
        "                       ha='center', va='center', transform=axes[1, 1].transAxes)\n",
        "else:\n",
        "    axes[1, 1].text(0.5, 0.5, 'Seebeck coefficient data not available',\n",
        "                   ha='center', va='center', transform=axes[1, 1].transAxes)\n",
        "axes[1, 1].set_title('Seebeck Coefficient Distribution')\n",
        "\n",
        "plt.tight_layout()\n",
        "plt.show()\n",
        "\n",
        "# Create plots for crystallinity vs power factor relationship\n",
        "if crystallinity_col and power_factor_col:\n",
        "    # Filter out rows with missing data\n",
        "    valid_data = df[df[crystallinity_col].notna() & df[power_factor_col].notna()]\n",
        "\n",
        "    if len(valid_data) > 0:\n",
        "        plt.figure(figsize=(14, 10))\n",
        "\n",
        "        # Plot 1: Boxplot of power factor by crystallinity\n",
        "        plt.subplot(2, 2, 1)\n",
        "        sns.boxplot(x=crystallinity_col, y=power_factor_col, data=valid_data)\n",
        "        plt.title('Power Factor Distribution by Crystallinity')\n",
        "        plt.xlabel('Crystallinity')\n",
        "        plt.ylabel('Power Factor')\n",
        "        plt.xticks(rotation=45)\n",
        "        plt.yscale('log')\n",
        "\n",
        "        # Plot 2: Range of power factors by crystallinity\n",
        "        plt.subplot(2, 2, 2)\n",
        "        crystallinity_groups = valid_data.groupby(crystallinity_col)[power_factor_col]\n",
        "        power_factor_ranges = crystallinity_groups.max() - crystallinity_groups.min()\n",
        "        power_factor_ranges.plot(kind='bar', color='lightblue', edgecolor='black')\n",
        "        plt.title('Range of Power Factor by Crystallinity')\n",
        "        plt.xlabel('Crystallinity')\n",
        "        plt.ylabel('Power Factor Range (max - min)')\n",
        "        plt.xticks(rotation=45)\n",
        "        plt.grid(axis='y', alpha=0.3)\n",
        "\n",
        "        # Plot 3: Mean power factor by crystallinity\n",
        "        plt.subplot(2, 2, 3)\n",
        "        mean_power = valid_data.groupby(crystallinity_col)[power_factor_col].mean()\n",
        "        mean_power.plot(kind='bar', color='lightgreen', edgecolor='black')\n",
        "        plt.title('Mean Power Factor by Crystallinity')\n",
        "        plt.xlabel('Crystallinity')\n",
        "        plt.ylabel('Mean Power Factor')\n",
        "        plt.xticks(rotation=45)\n",
        "        plt.grid(axis='y', alpha=0.3)\n",
        "\n",
        "        # Plot 4: Scatter plot with jitter\n",
        "        plt.subplot(2, 2, 4)\n",
        "        # Sample data if too large for scatter plot\n",
        "        if len(valid_data) > 1000:\n",
        "            plot_data = valid_data.sample(n=1000, random_state=42)\n",
        "        else:\n",
        "            plot_data = valid_data\n",
        "\n",
        "        crystallinity_map = {cryst: i for i, cryst in enumerate(valid_data[crystallinity_col].unique())}\n",
        "        jitter = np.random.normal(0, 0.1, len(plot_data))\n",
        "\n",
        "        plt.scatter([crystallinity_map[x] + j for x, j in zip(plot_data[crystallinity_col], jitter)],\n",
        "                    plot_data[power_factor_col],\n",
        "                    alpha=0.6, s=30)\n",
        "        plt.title('Power Factor vs Crystallinity')\n",
        "        plt.xlabel('Crystallinity Type')\n",
        "        plt.ylabel('Power Factor')\n",
        "        plt.xticks(range(len(crystallinity_map)), list(crystallinity_map.keys()), rotation=45)\n",
        "        plt.yscale('log')\n",
        "        plt.grid(alpha=0.3)\n",
        "\n",
        "        plt.tight_layout()\n",
        "        plt.show()\n",
        "\n",
        "        # Print statistical summary\n",
        "        print(\"\\nStatistical Summary by Crystallinity:\")\n",
        "        summary = valid_data.groupby(crystallinity_col)[power_factor_col].agg(['count', 'mean', 'std', 'min', 'max'])\n",
        "        print(summary)\n",
        "\n",
        "    else:\n",
        "        print(\"No valid data for crystallinity vs power factor analysis\")\n",
        "else:\n",
        "    print(\"Required columns (crystallinity and/or power factor) not available for relationship analysis\")"
      ],
      "metadata": {
        "id": "stHkAV9Rfb_g",
        "colab": {
          "base_uri": "https://localhost:8080/",
          "height": 1000
        },
        "outputId": "50ea6d33-75d9-44c8-97e8-38f86648b312"
      },
      "id": "stHkAV9Rfb_g",
      "execution_count": null,
      "outputs": [
        {
          "output_type": "stream",
          "name": "stdout",
          "text": [
            "Requirement already satisfied: matminer in /usr/local/lib/python3.12/dist-packages (0.9.3)\n",
            "Requirement already satisfied: numpy>=1.23 in /usr/local/lib/python3.12/dist-packages (from matminer) (2.0.2)\n",
            "Requirement already satisfied: requests~=2.31 in /usr/local/lib/python3.12/dist-packages (from matminer) (2.32.4)\n",
            "Requirement already satisfied: pandas<3,>=1.5 in /usr/local/lib/python3.12/dist-packages (from matminer) (2.2.2)\n",
            "Requirement already satisfied: tqdm~=4.66 in /usr/local/lib/python3.12/dist-packages (from matminer) (4.67.1)\n",
            "Requirement already satisfied: pymongo~=4.5 in /usr/local/lib/python3.12/dist-packages (from matminer) (4.15.0)\n",
            "Requirement already satisfied: scikit-learn~=1.3 in /usr/local/lib/python3.12/dist-packages (from matminer) (1.6.1)\n",
            "Requirement already satisfied: sympy~=1.11 in /usr/local/lib/python3.12/dist-packages (from matminer) (1.13.3)\n",
            "Requirement already satisfied: monty>=2023 in /usr/local/lib/python3.12/dist-packages (from matminer) (2025.3.3)\n",
            "Requirement already satisfied: pymatgen>=2023 in /usr/local/lib/python3.12/dist-packages (from matminer) (2025.6.14)\n",
            "Requirement already satisfied: ruamel.yaml in /usr/local/lib/python3.12/dist-packages (from monty>=2023->matminer) (0.18.15)\n",
            "Requirement already satisfied: python-dateutil>=2.8.2 in /usr/local/lib/python3.12/dist-packages (from pandas<3,>=1.5->matminer) (2.9.0.post0)\n",
            "Requirement already satisfied: pytz>=2020.1 in /usr/local/lib/python3.12/dist-packages (from pandas<3,>=1.5->matminer) (2025.2)\n",
            "Requirement already satisfied: tzdata>=2022.7 in /usr/local/lib/python3.12/dist-packages (from pandas<3,>=1.5->matminer) (2025.2)\n",
            "Requirement already satisfied: bibtexparser>=1.4.0 in /usr/local/lib/python3.12/dist-packages (from pymatgen>=2023->matminer) (1.4.3)\n",
            "Requirement already satisfied: joblib>=1 in /usr/local/lib/python3.12/dist-packages (from pymatgen>=2023->matminer) (1.5.2)\n",
            "Requirement already satisfied: matplotlib>=3.8 in /usr/local/lib/python3.12/dist-packages (from pymatgen>=2023->matminer) (3.10.0)\n",
            "Requirement already satisfied: networkx>=2.7 in /usr/local/lib/python3.12/dist-packages (from pymatgen>=2023->matminer) (3.5)\n",
            "Requirement already satisfied: orjson<4,>=3.10 in /usr/local/lib/python3.12/dist-packages (from pymatgen>=2023->matminer) (3.11.3)\n",
            "Requirement already satisfied: palettable>=3.3.3 in /usr/local/lib/python3.12/dist-packages (from pymatgen>=2023->matminer) (3.3.3)\n",
            "Requirement already satisfied: plotly>=5.0.0 in /usr/local/lib/python3.12/dist-packages (from pymatgen>=2023->matminer) (5.24.1)\n",
            "Requirement already satisfied: scipy>=1.13.0 in /usr/local/lib/python3.12/dist-packages (from pymatgen>=2023->matminer) (1.16.1)\n",
            "Requirement already satisfied: spglib>=2.5 in /usr/local/lib/python3.12/dist-packages (from pymatgen>=2023->matminer) (2.6.0)\n",
            "Requirement already satisfied: tabulate>=0.9 in /usr/local/lib/python3.12/dist-packages (from pymatgen>=2023->matminer) (0.9.0)\n",
            "Requirement already satisfied: uncertainties>=3.1.4 in /usr/local/lib/python3.12/dist-packages (from pymatgen>=2023->matminer) (3.2.3)\n",
            "Requirement already satisfied: dnspython<3.0.0,>=1.16.0 in /usr/local/lib/python3.12/dist-packages (from pymongo~=4.5->matminer) (2.8.0)\n",
            "Requirement already satisfied: charset_normalizer<4,>=2 in /usr/local/lib/python3.12/dist-packages (from requests~=2.31->matminer) (3.4.3)\n",
            "Requirement already satisfied: idna<4,>=2.5 in /usr/local/lib/python3.12/dist-packages (from requests~=2.31->matminer) (3.10)\n",
            "Requirement already satisfied: urllib3<3,>=1.21.1 in /usr/local/lib/python3.12/dist-packages (from requests~=2.31->matminer) (2.5.0)\n",
            "Requirement already satisfied: certifi>=2017.4.17 in /usr/local/lib/python3.12/dist-packages (from requests~=2.31->matminer) (2025.8.3)\n",
            "Requirement already satisfied: threadpoolctl>=3.1.0 in /usr/local/lib/python3.12/dist-packages (from scikit-learn~=1.3->matminer) (3.6.0)\n",
            "Requirement already satisfied: mpmath<1.4,>=1.1.0 in /usr/local/lib/python3.12/dist-packages (from sympy~=1.11->matminer) (1.3.0)\n",
            "Requirement already satisfied: pyparsing>=2.0.3 in /usr/local/lib/python3.12/dist-packages (from bibtexparser>=1.4.0->pymatgen>=2023->matminer) (3.2.3)\n",
            "Requirement already satisfied: contourpy>=1.0.1 in /usr/local/lib/python3.12/dist-packages (from matplotlib>=3.8->pymatgen>=2023->matminer) (1.3.3)\n",
            "Requirement already satisfied: cycler>=0.10 in /usr/local/lib/python3.12/dist-packages (from matplotlib>=3.8->pymatgen>=2023->matminer) (0.12.1)\n",
            "Requirement already satisfied: fonttools>=4.22.0 in /usr/local/lib/python3.12/dist-packages (from matplotlib>=3.8->pymatgen>=2023->matminer) (4.59.2)\n",
            "Requirement already satisfied: kiwisolver>=1.3.1 in /usr/local/lib/python3.12/dist-packages (from matplotlib>=3.8->pymatgen>=2023->matminer) (1.4.9)\n",
            "Requirement already satisfied: packaging>=20.0 in /usr/local/lib/python3.12/dist-packages (from matplotlib>=3.8->pymatgen>=2023->matminer) (25.0)\n",
            "Requirement already satisfied: pillow>=8 in /usr/local/lib/python3.12/dist-packages (from matplotlib>=3.8->pymatgen>=2023->matminer) (11.3.0)\n",
            "Requirement already satisfied: tenacity>=6.2.0 in /usr/local/lib/python3.12/dist-packages (from plotly>=5.0.0->pymatgen>=2023->matminer) (8.5.0)\n",
            "Requirement already satisfied: six>=1.5 in /usr/local/lib/python3.12/dist-packages (from python-dateutil>=2.8.2->pandas<3,>=1.5->matminer) (1.17.0)\n",
            "Requirement already satisfied: ruamel.yaml.clib>=0.2.7 in /usr/local/lib/python3.12/dist-packages (from ruamel.yaml->monty>=2023->matminer) (0.2.12)\n",
            "Requirement already satisfied: typing-extensions>=4.9.0 in /usr/local/lib/python3.12/dist-packages (from spglib>=2.5->pymatgen>=2023->matminer) (4.15.0)\n",
            "Loading UCSB thermoelectrics dataset...\n",
            "Dataset shape: (1093, 12)\n",
            "\n",
            "All columns: ['composition', 'crystallinity', 'synthesis', 'spacegroup', 'rho (ohm.cm)', 'S [muV/K]', 'PF [W/mK^2]', 'zT', 'kappa [W/mK]', 'sigma [S/cm]', 'T [K]', 'src']\n",
            "\n",
            "First few rows:\n",
            "        composition    crystallinity                         synthesis  \\\n",
            "1  Ti0.99Nb0.01NiSn  Polycrystalline                Arc-melted, vacuum   \n",
            "2          Cu1.98Se  Polycrystalline                    Melted, vacuum   \n",
            "3            Bi2Te3   Single crystal                            Melted   \n",
            "4        Cr1.3Mo6S8  Polycrystalline      Solid state reaction, vacuum   \n",
            "5            LaNiO3  Polycrystalline  Evaporate nitrates (1173 K, air)   \n",
            "\n",
            "   spacegroup  rho (ohm.cm)  S [muV/K]  PF [W/mK^2]        zT  kappa [W/mK]  \\\n",
            "1       216.0      0.001240   -192.458     0.002987  0.203822      5.861700   \n",
            "2       225.0      0.003250    201.500     0.001249  1.230837      1.015000   \n",
            "3       166.0      0.000450   -174.000     0.006728  0.502500      4.016716   \n",
            "4         2.0      0.000693     51.220     0.000378  0.098456      2.690500   \n",
            "5       167.0      0.004601    -25.760     0.000014       NaN           NaN   \n",
            "\n",
            "   sigma [S/cm]   T [K]                                              src  \n",
            "1        806.39   400.0  http://dx.doi.org/10.1016/j.jallcom.2008.02.041  \n",
            "2        307.69  1000.0               http://dx.doi.org/10.1038/nmat3280  \n",
            "3       2222.20   300.0     http://dx.doi.org/10.1201/9781420049718.ch19  \n",
            "4       1442.40   700.0      http://dx.doi.org/10.1007/s11664-009-0975-0  \n",
            "5        217.33   700.0          http://dx.doi.org/10.1557/PROC-793-S3.3  \n",
            "\n",
            "Searching for relevant columns...\n",
            "Crystallinity columns: ['crystallinity']\n",
            "Resistivity columns: ['rho (ohm.cm)']\n",
            "ZT columns: ['zT']\n",
            "Seebeck columns: []\n",
            "Power factor columns: []\n",
            "\n",
            "Using columns:\n",
            "Crystallinity: crystallinity\n",
            "Resistivity: rho (ohm.cm)\n",
            "ZT: zT\n",
            "Seebeck: None\n",
            "Power factor: None\n",
            "\n",
            "Data types:\n",
            "composition       object\n",
            "crystallinity     object\n",
            "synthesis         object\n",
            "spacegroup       float64\n",
            "rho (ohm.cm)     float64\n",
            "S [muV/K]        float64\n",
            "PF [W/mK^2]      float64\n",
            "zT               float64\n",
            "kappa [W/mK]     float64\n",
            "sigma [S/cm]     float64\n",
            "T [K]            float64\n",
            "src               object\n",
            "dtype: object\n",
            "\n",
            "Missing values:\n",
            "composition        0\n",
            "crystallinity      0\n",
            "synthesis          8\n",
            "spacegroup        13\n",
            "rho (ohm.cm)       0\n",
            "S [muV/K]          0\n",
            "PF [W/mK^2]        0\n",
            "zT               379\n",
            "kappa [W/mK]     379\n",
            "sigma [S/cm]       0\n",
            "T [K]             11\n",
            "src                7\n",
            "dtype: int64\n",
            "\n",
            "Basic statistics for features of interest:\n",
            "       rho (ohm.cm)          zT\n",
            "count   1093.000000  714.000000\n",
            "mean      22.799804    0.208425\n",
            "std      450.285794    0.328442\n",
            "min        0.000065    0.000000\n",
            "25%        0.001510    0.017069\n",
            "50%        0.004878    0.074852\n",
            "75%        0.022970    0.238138\n",
            "max    14500.000000    2.271560\n",
            "\n",
            "Unique crystallinity values: ['Polycrystalline' 'Single crystal' 'Nanoparticles']\n"
          ]
        },
        {
          "output_type": "display_data",
          "data": {
            "text/plain": [
              "<Figure size 1500x1200 with 4 Axes>"
            ],
            "image/png": "[encoded data removed]"
          },
          "metadata": {}
        },
        {
          "output_type": "stream",
          "name": "stdout",
          "text": [
            "Required columns (crystallinity and/or power factor) not available for relationship analysis\n"
          ]
        }
      ]
    },
    {
      "cell_type": "markdown",
      "source": [
        "# Problem 7 – Prompting an LLM\n",
        "Modern data workflows often use Large Language Models (LLMs) as coding partners. In this problem, you will practice prompt engineering.\n",
        "\n",
        "**6A**. Choose one function from Problems 1–5 that you found challenging. Write a prompt to an LLM (e.g., ChatGPT, Gemini, Perplexity, Claude) asking for help. Your prompt must:\n",
        "*   Clearly state the task.\n",
        "*   Provide the function signature.\n",
        "*   Provide context about the data.\n",
        "*   Specify the constraints.\n",
        "\n",
        "**6B**. Share your **full conversation** (prompts and responses) either as a link or a document.\n",
        "\n",
        "**6C**. Select a second LLM, submit *exactly the same prompt*, and share the full conversation.\n",
        "\n",
        "**6D**. Write a short reflection (2–3 sentences):\n",
        "*   Did the LLM’s answer solve the problem?\n",
        "*   Was the answer correct and aligned with the requirements?\n",
        "*   How might you adjust your prompt to improve the response?\n",
        "*   In what ways were the two LLMs' responses different/similar?"
      ],
      "metadata": {
        "id": "d_vxr3IuieI-"
      },
      "id": "d_vxr3IuieI-"
    },
    {
      "cell_type": "code",
      "source": [],
      "metadata": {
        "id": "Se_xEjcdkJAc"
      },
      "id": "Se_xEjcdkJAc",
      "execution_count": null,
      "outputs": []
    }
  ],
  "metadata": {
    "kernelspec": {
      "display_name": "Python 3",
      "language": "python",
      "name": "python3"
    },
    "language_info": {
      "name": "python",
      "version": "3.x"
    },
    "colab": {
      "provenance": []
    }
  },
  "nbformat": 4,
  "nbformat_minor": 5
}